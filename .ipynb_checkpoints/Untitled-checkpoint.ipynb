{
 "cells": [
  {
   "cell_type": "code",
   "execution_count": 1,
   "id": "eef51c81-fffb-46cc-8927-635325d1d857",
   "metadata": {},
   "outputs": [
    {
     "ename": "NameError",
     "evalue": "name 'Flask' is not defined",
     "output_type": "error",
     "traceback": [
      "\u001b[0;31m---------------------------------------------------------------------------\u001b[0m",
      "\u001b[0;31mNameError\u001b[0m                                 Traceback (most recent call last)",
      "Cell \u001b[0;32mIn[1], line 3\u001b[0m\n\u001b[1;32m      1\u001b[0m \u001b[38;5;28;01mimport\u001b[39;00m \u001b[38;5;21;01mpandas\u001b[39;00m \u001b[38;5;28;01mas\u001b[39;00m \u001b[38;5;21;01mpd\u001b[39;00m\n\u001b[0;32m----> 3\u001b[0m app \u001b[38;5;241m=\u001b[39m \u001b[43mFlask\u001b[49m(\u001b[38;5;18m__name__\u001b[39m)\n\u001b[1;32m      5\u001b[0m \u001b[38;5;66;03m# Load the model and preprocessors\u001b[39;00m\n\u001b[1;32m      6\u001b[0m model \u001b[38;5;241m=\u001b[39m joblib\u001b[38;5;241m.\u001b[39mload(\u001b[38;5;124m'\u001b[39m\u001b[38;5;124mmodels/best_model.pkl\u001b[39m\u001b[38;5;124m'\u001b[39m)\n",
      "\u001b[0;31mNameError\u001b[0m: name 'Flask' is not defined"
     ]
    }
   ],
   "source": [
    "import pandas as pd\n",
    "\n",
    "app = Flask(__name__)\n",
    "\n",
    "# Load the model and preprocessors\n",
    "model = joblib.load('models/best_model.pkl')\n",
    "preprocessor = joblib.load('models/preprocessor.pkl')\n",
    "\n",
    "@app.route('/')\n",
    "def index():\n",
    "    return 'Server is running!'\n",
    "\n",
    "@app.route('/predict', methods=['GET', 'POST'])\n",
    "def predict():\n",
    "    if request.method == 'POST':\n",
    "        try:\n",
    "            data = request.json['data']\n",
    "            print(\"Received data:\", data)  # Add this debug statement\n",
    "            data_df = pd.DataFrame(data)\n",
    "            print(\"Data DataFrame:\", data_df)  # Add this debug statement\n",
    "            data_preprocessed = preprocessor.transform(data_df)\n",
    "            print(\"Preprocessed data:\", data_preprocessed)  # Add this debug statement\n",
    "            print(\"Type of preprocessed data:\", type(data_preprocessed))  # Add this debug statement\n",
    "            prediction = model.predict(data_preprocessed)\n",
    "            print(\"Prediction:\", prediction)  # Add this debug statement\n",
    "            return jsonify({'prediction': prediction.tolist()})\n",
    "        except Exception as e:\n",
    "            return jsonify({'error': str(e)})\n",
    "    elif request.method == 'GET':\n",
    "        return 'GET method is not supported for this endpoint. Please use POST method to make predictions.'\n",
    "\n",
    "if __name__ == '__main__':\n",
    "    app.run(host='0.0.0.0', port=5000)"
   ]
  },
  {
   "cell_type": "code",
   "execution_count": 2,
   "id": "b2693943-a6b0-4db7-bf70-b10c48fc42b8",
   "metadata": {},
   "outputs": [
    {
     "name": "stdout",
     "output_type": "stream",
     "text": [
      "\u001b[31mERROR: Could not open requirements file: [Errno 2] No such file or directory: 'requiremets.txt'\u001b[0m\u001b[31m\n",
      "\u001b[0mNote: you may need to restart the kernel to use updated packages.\n"
     ]
    }
   ],
   "source": [
    "pip install -r requiremets.txt"
   ]
  },
  {
   "cell_type": "code",
   "execution_count": 1,
   "id": "5818d940-f1e1-4418-b7e1-2f2f4ca44158",
   "metadata": {},
   "outputs": [
    {
     "ename": "NameError",
     "evalue": "name 'Flask' is not defined",
     "output_type": "error",
     "traceback": [
      "\u001b[0;31m---------------------------------------------------------------------------\u001b[0m",
      "\u001b[0;31mNameError\u001b[0m                                 Traceback (most recent call last)",
      "Cell \u001b[0;32mIn[1], line 3\u001b[0m\n\u001b[1;32m      1\u001b[0m \u001b[38;5;28;01mimport\u001b[39;00m \u001b[38;5;21;01mpandas\u001b[39;00m \u001b[38;5;28;01mas\u001b[39;00m \u001b[38;5;21;01mpd\u001b[39;00m\n\u001b[0;32m----> 3\u001b[0m app \u001b[38;5;241m=\u001b[39m \u001b[43mFlask\u001b[49m(\u001b[38;5;18m__name__\u001b[39m)\n\u001b[1;32m      5\u001b[0m \u001b[38;5;66;03m# Load the model and preprocessors\u001b[39;00m\n\u001b[1;32m      6\u001b[0m model \u001b[38;5;241m=\u001b[39m joblib\u001b[38;5;241m.\u001b[39mload(\u001b[38;5;124m'\u001b[39m\u001b[38;5;124mmodels/best_model.pkl\u001b[39m\u001b[38;5;124m'\u001b[39m)\n",
      "\u001b[0;31mNameError\u001b[0m: name 'Flask' is not defined"
     ]
    }
   ],
   "source": [
    "import pandas as pd\n",
    "\n",
    "app = Flask(__name__)\n",
    "\n",
    "# Load the model and preprocessors\n",
    "model = joblib.load('models/best_model.pkl')\n",
    "preprocessor = joblib.load('models/preprocessor.pkl')\n",
    "\n",
    "@app.route('/')\n",
    "def index():\n",
    "    return 'Server is running!'\n",
    "\n",
    "@app.route('/predict', methods=['GET', 'POST'])\n",
    "def predict():\n",
    "    if request.method == 'POST':\n",
    "        try:\n",
    "            data = request.json['data']\n",
    "            print(\"Received data:\", data)  # Add this debug statement\n",
    "            data_df = pd.DataFrame(data)\n",
    "            print(\"Data DataFrame:\", data_df)  # Add this debug statement\n",
    "            data_preprocessed = preprocessor.transform(data_df)\n",
    "            print(\"Preprocessed data:\", data_preprocessed)  # Add this debug statement\n",
    "            print(\"Type of preprocessed data:\", type(data_preprocessed))  # Add this debug statement\n",
    "            prediction = model.predict(data_preprocessed)\n",
    "            print(\"Prediction:\", prediction)  # Add this debug statement\n",
    "            return jsonify({'prediction': prediction.tolist()})\n",
    "        except Exception as e:\n",
    "            return jsonify({'error': str(e)})\n",
    "    elif request.method == 'GET':\n",
    "        return 'GET method is not supported for this endpoint. Please use POST method to make predictions.'\n",
    "\n",
    "if __name__ == '__main__':\n",
    "    app.run(host='0.0.0.0', port=5000)"
   ]
  },
  {
   "cell_type": "code",
   "execution_count": null,
   "id": "7a3a7821-0aab-4acd-ac07-603452392ec0",
   "metadata": {},
   "outputs": [
    {
     "name": "stdout",
     "output_type": "stream",
     "text": [
      " * Serving Flask app '__main__'\n",
      " * Debug mode: off\n"
     ]
    },
    {
     "name": "stderr",
     "output_type": "stream",
     "text": [
      "\u001b[31m\u001b[1mWARNING: This is a development server. Do not use it in a production deployment. Use a production WSGI server instead.\u001b[0m\n",
      " * Running on all addresses (0.0.0.0)\n",
      " * Running on http://127.0.0.1:5000\n",
      " * Running on http://172.17.97.194:5000\n",
      "\u001b[33mPress CTRL+C to quit\u001b[0m\n"
     ]
    }
   ],
   "source": [
    "import pandas as pd\n",
    "from flask import Flask\n",
    "import joblib\n",
    "\n",
    "app = Flask(__name__)\n",
    "\n",
    "# Load the model and preprocessors\n",
    "model = joblib.load('models/best_model.pkl')\n",
    "preprocessor = joblib.load('models/preprocessor.pkl')\n",
    "\n",
    "@app.route('/')\n",
    "def index():\n",
    "    return 'Server is running!'\n",
    "\n",
    "@app.route('/predict', methods=['GET', 'POST'])\n",
    "def predict():\n",
    "    if request.method == 'POST':\n",
    "        try:\n",
    "            data = request.json['data']\n",
    "            print(\"Received data:\", data)  # Add this debug statement\n",
    "            data_df = pd.DataFrame(data)\n",
    "            print(\"Data DataFrame:\", data_df)  # Add this debug statement\n",
    "            data_preprocessed = preprocessor.transform(data_df)\n",
    "            print(\"Preprocessed data:\", data_preprocessed)  # Add this debug statement\n",
    "            print(\"Type of preprocessed data:\", type(data_preprocessed))  # Add this debug statement\n",
    "            prediction = model.predict(data_preprocessed)\n",
    "            print(\"Prediction:\", prediction)  # Add this debug statement\n",
    "            return jsonify({'prediction': prediction.tolist()})\n",
    "        except Exception as e:\n",
    "            return jsonify({'error': str(e)})\n",
    "    elif request.method == 'GET':\n",
    "        return 'GET method is not supported for this endpoint. Please use POST method to make predictions.'\n",
    "\n",
    "if __name__ == '__main__':\n",
    "    app.run(host='0.0.0.0', port=5000)"
   ]
  },
  {
   "cell_type": "code",
   "execution_count": null,
   "id": "780348a2-4e9c-4042-aee5-d38b37da135a",
   "metadata": {},
   "outputs": [],
   "source": [
    "import pandas as pd\n",
    "import matplotlib.pyplot as plt\n",
    "import seaborn as sns\n",
    "\n",
    "# Load the dataset\n",
    "data = pd.read_csv('heart.csv')\n",
    "\n",
    "# Display the first few rows of the dataset\n",
    "print(data.head())\n",
    "\n",
    "# Histograms for numerical variables\n",
    "numerical_vars = ['age', 'trtbps', 'chol', 'thalachh']\n",
    "for var in numerical_vars:\n",
    "    plt.figure(figsize=(8, 6))\n",
    "    sns.histplot(data[var], kde=True)\n",
    "    plt.title(f'Distribution of {var}')\n",
    "    plt.xlabel(var)\n",
    "    plt.ylabel('Frequency')\n",
    "    plt.show()\n",
    "\n",
    "# Bar plots for categorical variables\n",
    "categorical_vars = ['sex', 'cp', 'fbs', 'restecg']\n",
    "for var in categorical_vars:\n",
    "    plt.figure(figsize=(8, 6))\n",
    "    sns.countplot(data[var])\n",
    "    plt.title(f'Count of {var}')\n",
    "    plt.xlabel(var)\n",
    "    plt.ylabel('Count')\n",
    "    plt.show()\n",
    "\n",
    "# Box plots for numerical vs. categorical variables\n",
    "plt.figure(figsize=(10, 8))\n",
    "sns.boxplot(x='cp', y='age', data=data)\n",
    "plt.title('Box Plot of Age by Chest Pain Type')\n",
    "plt.xlabel('Chest Pain Type')\n",
    "plt.ylabel('Age')\n",
    "plt.show()\n",
    "\n",
    "# Scatter plot for relationship between numerical variables\n",
    "plt.figure(figsize=(8, 6))\n",
    "sns.scatterplot(x='age', y='chol', data=data)\n",
    "plt.title('Scatter Plot of Age vs. Cholesterol')\n",
    "plt.xlabel('Age')\n",
    "plt.ylabel('Cholesterol')\n",
    "plt.show()\n"
   ]
  },
  {
   "cell_type": "code",
   "execution_count": null,
   "id": "35cb9a7e-6c9e-4675-aeb1-2f4fa23c7c89",
   "metadata": {},
   "outputs": [],
   "source": [
    "pip install pandas matplotlib seaborn"
   ]
  },
  {
   "cell_type": "code",
   "execution_count": null,
   "id": "0dfc982b-4316-49e0-a947-29a3cc3afa99",
   "metadata": {},
   "outputs": [],
   "source": [
    "import pandas as pd\n",
    "\n",
    "# Load the data into a DataFrame\n",
    "data = pd.read_csv('heart.csv')\n",
    "\n",
    "# Print the first few rows of the DataFrame\n",
    "print(data.head())"
   ]
  },
  {
   "cell_type": "code",
   "execution_count": null,
   "id": "4f7e4f1d-ca1a-4975-8ec7-7c58f661d3c4",
   "metadata": {},
   "outputs": [],
   "source": [
    "import pandas as pd\n",
    "import matplotlib.pyplot as plt\n",
    "import seaborn as sns\n",
    "\n",
    "# Load the dataset\n",
    "data = pd.read_csv('heart.csv')\n",
    "\n",
    "# Histograms for numerical variables\n",
    "numerical_vars = ['age', 'trtbps', 'chol', 'thalachh']\n",
    "for var in numerical_vars:\n",
    "    plt.figure(figsize=(8, 6))\n",
    "    sns.histplot(data[var], kde=True)\n",
    "    plt.title(f'Distribution of {var}')\n",
    "    plt.xlabel(var)\n",
    "    plt.ylabel('Frequency')\n",
    "    plt.show()\n",
    "\n",
    "# Bar plots for categorical variables\n",
    "categorical_vars = ['sex', 'cp', 'fbs', 'restecg']\n",
    "for var in categorical_vars:\n",
    "    plt.figure(figsize=(8, 6))\n",
    "    sns.countplot(data[var])\n",
    "    plt.title(f'Count of {var}')\n",
    "    plt.xlabel(var)\n",
    "    plt.ylabel('Count')\n",
    "    plt.show()\n",
    "\n",
    "# Box plots for numerical vs. categorical variables\n",
    "plt.figure(figsize=(10, 8))\n",
    "sns.boxplot(x='cp', y='age', data=data)\n",
    "plt.title('Box Plot of Age by Chest Pain Type')\n",
    "plt.xlabel('Chest Pain Type')\n",
    "plt.ylabel('Age')\n",
    "plt.show()\n",
    "\n",
    "# Scatter plot for relationship between numerical variables\n",
    "plt.figure(figsize=(8, 6))\n",
    "sns.scatterplot(x='age', y='chol', data=data)\n",
    "plt.title('Scatter Plot of Age vs. Cholesterol')\n",
    "plt.xlabel('Age')\n",
    "plt.ylabel('Cholesterol')\n",
    "plt.show()"
   ]
  },
  {
   "cell_type": "code",
   "execution_count": null,
   "id": "b74ac567-e0b6-40a5-be0e-c0173b3cda6b",
   "metadata": {},
   "outputs": [],
   "source": []
  }
 ],
 "metadata": {
  "kernelspec": {
   "display_name": "Python 3 (ipykernel)",
   "language": "python",
   "name": "python3"
  },
  "language_info": {
   "codemirror_mode": {
    "name": "ipython",
    "version": 3
   },
   "file_extension": ".py",
   "mimetype": "text/x-python",
   "name": "python",
   "nbconvert_exporter": "python",
   "pygments_lexer": "ipython3",
   "version": "3.10.12"
  }
 },
 "nbformat": 4,
 "nbformat_minor": 5
}
